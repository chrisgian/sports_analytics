{
 "cells": [
  {
   "cell_type": "code",
   "execution_count": 6,
   "source": [
    "import pandas as pd\n",
    "import sportsipy"
   ],
   "outputs": [],
   "metadata": {}
  },
  {
   "cell_type": "markdown",
   "source": [
    "Notes\n",
    "\n",
    "year: `Teams(year = '2021')`\n",
    "- can go back to 1999 even"
   ],
   "metadata": {}
  },
  {
   "cell_type": "code",
   "execution_count": 26,
   "source": [
    "try:\n",
    "    teams = Teams('2021')\n",
    "    df_team = pd.DataFrame([(i.name,i.abbreviation) for i in teams], columns = ['team','abbreviation'])\n",
    "    \n",
    "except:\n",
    "    df_team = pd.DataFrame([(None,None)],columns = ['team','abbreviation'])\n",
    "\n",
    "df_team.to_csv('teams_2021.csv',index = None)"
   ],
   "outputs": [],
   "metadata": {}
  },
  {
   "cell_type": "code",
   "execution_count": null,
   "source": [],
   "outputs": [],
   "metadata": {}
  },
  {
   "cell_type": "code",
   "execution_count": 35,
   "source": [
    "from sportsipy.nfl.teams import Teams\n",
    "\n",
    "teams = Teams()\n",
    "for team in teams:\n",
    "    print(team.name, team.abbreviation)"
   ],
   "outputs": [
    {
     "output_type": "stream",
     "name": "stdout",
     "text": [
      "Washington Football Team WAS\n",
      "New York Giants NYG\n",
      "San Francisco 49ers SFO\n",
      "New Orleans Saints NOR\n",
      "Arizona Cardinals CRD\n",
      "Houston Texans HTX\n",
      "Los Angeles Rams RAM\n",
      "Detroit Lions DET\n",
      "Las Vegas Raiders RAI\n",
      "Kansas City Chiefs KAN\n",
      "Philadelphia Eagles PHI\n",
      "Tampa Bay Buccaneers TAM\n",
      "Dallas Cowboys DAL\n",
      "Cleveland Browns CLE\n",
      "Seattle Seahawks SEA\n",
      "Baltimore Ravens RAV\n",
      "Denver Broncos DEN\n",
      "Cincinnati Bengals CIN\n",
      "Minnesota Vikings MIN\n",
      "Pittsburgh Steelers PIT\n",
      "Jacksonville Jaguars JAX\n",
      "Los Angeles Chargers SDG\n",
      "Carolina Panthers CAR\n",
      "Miami Dolphins MIA\n",
      "New England Patriots NWE\n",
      "Indianapolis Colts CLT\n",
      "Buffalo Bills BUF\n",
      "New York Jets NYJ\n",
      "Chicago Bears CHI\n",
      "Tennessee Titans OTI\n",
      "Atlanta Falcons ATL\n",
      "Green Bay Packers GNB\n"
     ]
    }
   ],
   "metadata": {}
  },
  {
   "cell_type": "code",
   "execution_count": 68,
   "source": [
    "Teams(year = '2021')['CIN'].roster.players"
   ],
   "outputs": [
    {
     "output_type": "execute_result",
     "data": {
      "text/plain": [
       "[]"
      ]
     },
     "metadata": {},
     "execution_count": 68
    }
   ],
   "metadata": {}
  },
  {
   "cell_type": "code",
   "execution_count": 70,
   "source": [
    "\n",
    "saints.players"
   ],
   "outputs": [
    {
     "output_type": "execute_result",
     "data": {
      "text/plain": [
       "[]"
      ]
     },
     "metadata": {},
     "execution_count": 70
    }
   ],
   "metadata": {}
  },
  {
   "cell_type": "code",
   "execution_count": 69,
   "source": [
    "from sportsipy.nfl.roster import Roster\n",
    "\n",
    "saints = Roster('NOR')\n",
    "for player in saints.players:\n",
    "    # Prints the name of all players who played for the New Orleans Saints\n",
    "    # in the most recent season.\n",
    "    print(player.name)"
   ],
   "outputs": [],
   "metadata": {}
  },
  {
   "cell_type": "markdown",
   "source": [
    "stat: margin of victory"
   ],
   "metadata": {}
  },
  {
   "cell_type": "code",
   "execution_count": 40,
   "source": [
    "from sportsipy.nfl.teams import Teams\n",
    "\n",
    "teams = Teams()\n",
    "for team in teams:\n",
    "    print(team.name)  # Prints the team's name\n",
    "    # Prints the team's average margin of victory\n",
    "    print(team.margin_of_victory)"
   ],
   "outputs": [
    {
     "output_type": "stream",
     "name": "stdout",
     "text": [
      "Washington Football Team\n",
      "-1.5\n",
      "New York Giants\n",
      "-7.5\n",
      "San Francisco 49ers\n",
      "8.0\n",
      "New Orleans Saints\n",
      "35.0\n",
      "Arizona Cardinals\n",
      "25.0\n",
      "Houston Texans\n",
      "16.0\n",
      "Los Angeles Rams\n",
      "20.0\n",
      "Detroit Lions\n",
      "-8.0\n",
      "Las Vegas Raiders\n",
      "6.0\n",
      "Kansas City Chiefs\n",
      "4.0\n",
      "Philadelphia Eagles\n",
      "26.0\n",
      "Tampa Bay Buccaneers\n",
      "2.0\n",
      "Dallas Cowboys\n",
      "-2.0\n",
      "Cleveland Browns\n",
      "-4.0\n",
      "Seattle Seahawks\n",
      "12.0\n",
      "Baltimore Ravens\n",
      "-6.0\n",
      "Denver Broncos\n",
      "14.0\n",
      "Cincinnati Bengals\n",
      "3.0\n",
      "Minnesota Vikings\n",
      "-3.0\n",
      "Pittsburgh Steelers\n",
      "7.0\n",
      "Jacksonville Jaguars\n",
      "-16.0\n",
      "Los Angeles Chargers\n",
      "4.0\n",
      "Carolina Panthers\n",
      "5.0\n",
      "Miami Dolphins\n",
      "1.0\n",
      "New England Patriots\n",
      "-1.0\n",
      "Indianapolis Colts\n",
      "-12.0\n",
      "Buffalo Bills\n",
      "-7.0\n",
      "New York Jets\n",
      "-5.0\n",
      "Chicago Bears\n",
      "-20.0\n",
      "Tennessee Titans\n",
      "-25.0\n",
      "Atlanta Falcons\n",
      "-26.0\n",
      "Green Bay Packers\n",
      "-35.0\n"
     ]
    }
   ],
   "metadata": {}
  },
  {
   "cell_type": "markdown",
   "source": [
    "schedule"
   ],
   "metadata": {}
  },
  {
   "cell_type": "code",
   "execution_count": 39,
   "source": [
    "from sportsipy.nfl.schedule import Schedule\n",
    "\n",
    "houston_schedule = Schedule('HTX')\n",
    "for game in houston_schedule:\n",
    "    print(game.date)  # Prints the date the game was played\n",
    "    print(game.result)  # Prints whether the team won or lost\n",
    "    # Creates an instance of the Boxscore class for the game.\n",
    "    boxscore = game.boxscore"
   ],
   "outputs": [
    {
     "output_type": "stream",
     "name": "stdout",
     "text": [
      "September 12\n",
      "Win\n",
      "September 19\n",
      "None\n",
      "September 23\n",
      "None\n",
      "October 3\n",
      "None\n",
      "October 10\n",
      "None\n",
      "October 17\n",
      "None\n",
      "October 24\n",
      "None\n",
      "October 31\n",
      "None\n",
      "November 7\n",
      "None\n",
      "November 21\n",
      "None\n",
      "November 28\n",
      "None\n",
      "December 5\n",
      "None\n",
      "December 12\n",
      "None\n",
      "December 19\n",
      "None\n",
      "December 26\n",
      "None\n",
      "January 2\n",
      "None\n",
      "January 9\n",
      "None\n"
     ]
    }
   ],
   "metadata": {}
  }
 ],
 "metadata": {
  "kernelspec": {
   "name": "python3",
   "display_name": "Python 3.6.6 64-bit ('venv': venv)"
  },
  "language_info": {
   "codemirror_mode": {
    "name": "ipython",
    "version": 3
   },
   "file_extension": ".py",
   "mimetype": "text/x-python",
   "name": "python",
   "nbconvert_exporter": "python",
   "pygments_lexer": "ipython3",
   "version": "3.6.6"
  },
  "interpreter": {
   "hash": "07a5a80833012174c6c0905ae2570309d7be8206bb850630482df8c5052a27e6"
  }
 },
 "nbformat": 4,
 "nbformat_minor": 5
}